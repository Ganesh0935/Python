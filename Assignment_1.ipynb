{
  "nbformat": 4,
  "nbformat_minor": 0,
  "metadata": {
    "colab": {
      "provenance": [],
      "authorship_tag": "ABX9TyMCAVh0pamBcKuLRwtCdkfO",
      "include_colab_link": true
    },
    "kernelspec": {
      "name": "python3",
      "display_name": "Python 3"
    },
    "language_info": {
      "name": "python"
    }
  },
  "cells": [
    {
      "cell_type": "markdown",
      "metadata": {
        "id": "view-in-github",
        "colab_type": "text"
      },
      "source": [
        "<a href=\"https://colab.research.google.com/github/Ganesh0935/Python/blob/main/Assignment_1.ipynb\" target=\"_parent\"><img src=\"https://colab.research.google.com/assets/colab-badge.svg\" alt=\"Open In Colab\"/></a>"
      ]
    },
    {
      "cell_type": "markdown",
      "source": [
        "# Assignment 1"
      ],
      "metadata": {
        "id": "Np2MMLrx8sp4"
      }
    },
    {
      "cell_type": "markdown",
      "source": [
        "Q1. Create one variable containing following type of data:\n",
        "\n",
        "(i) string\n",
        "(ii) list\n",
        "(iii) float\n",
        "(iv) tuple"
      ],
      "metadata": {
        "id": "PJMuxZ-w8tFq"
      }
    },
    {
      "cell_type": "code",
      "source": [
        "name = \"GaneshD\"\n",
        "details = [18,\"UG\",\"Rajahmundry\"]\n",
        "cgpa = 9.81\n",
        "address = (534342,\"Near SBI\",\"9609333222\")\n",
        "print(name,type(name))\n",
        "print(details,type(details))\n",
        "print(cgpa,type(cgpa))\n",
        "print(address,type(address))"
      ],
      "metadata": {
        "colab": {
          "base_uri": "https://localhost:8080/"
        },
        "id": "T8aZVAzD97S1",
        "outputId": "08142567-28e6-4d94-e98a-dfcb3c1aac5a"
      },
      "execution_count": 27,
      "outputs": [
        {
          "output_type": "stream",
          "name": "stdout",
          "text": [
            "GaneshD <class 'str'>\n",
            "[18, 'UG', 'Rajahmundry'] <class 'list'>\n",
            "9.81 <class 'float'>\n",
            "(534342, 'Near SBI', '9609333222') <class 'tuple'>\n"
          ]
        }
      ]
    },
    {
      "cell_type": "markdown",
      "source": [
        "Q2. Given are some following variables containing data:\n",
        "\n",
        "(i) var1 = ‘ ‘\n",
        "\n",
        "(ii) var2 = ‘[ DS , ML , Python]’\n",
        "\n",
        "(iii) var3 = [ ‘DS’ , ’ML’ , ‘Python’ ]\n",
        "\n",
        "(iv) var4 = 1.\n",
        "\n",
        "What will be the data type of the above given variable."
      ],
      "metadata": {
        "id": "qWi632cS9HuI"
      }
    },
    {
      "cell_type": "code",
      "source": [
        "var1 = '' # type is string\n",
        "print(type(var1))\n",
        "var2 = '[ DS , ML , Python]'   # type is String\n",
        "print(type(var2))\n",
        "var3 = ['DS' , 'ML' , 'Python' ] # type is list\n",
        "print(type(var3))\n",
        "var4 = 1 # type is int\n",
        "print(type(var4))"
      ],
      "metadata": {
        "colab": {
          "base_uri": "https://localhost:8080/"
        },
        "id": "Rg1Tc6Sb_JRI",
        "outputId": "0d357908-c9f9-4292-eed4-8031e2b87e81"
      },
      "execution_count": 28,
      "outputs": [
        {
          "output_type": "stream",
          "name": "stdout",
          "text": [
            "<class 'str'>\n",
            "<class 'str'>\n",
            "<class 'list'>\n",
            "<class 'int'>\n"
          ]
        }
      ]
    },
    {
      "cell_type": "markdown",
      "source": [
        "Q2. Given are some following variables containing data:\n",
        "\n",
        "(i) var1 = ‘ ‘\n",
        "\n",
        "(ii) var2 = ‘[ DS , ML , Python]’\n",
        "\n",
        "(iii) var3 = [ ‘DS’ , ’ML’ , ‘Python’ ]\n",
        "\n",
        "(iv) var4 = 1.\n",
        "\n",
        "What will be the data type of the above given variable."
      ],
      "metadata": {
        "id": "sB5qETNF9Hqn"
      }
    },
    {
      "cell_type": "markdown",
      "source": [
        "Q3. Explain the following operators (i)/ (ii)% (iii)// (iv)**"
      ],
      "metadata": {
        "id": "O7YEIAKSAt5x"
      }
    },
    {
      "cell_type": "code",
      "source": [
        "print(10/3) # division\n",
        "print(10%3) # modulus\n",
        "print(10//3) # floor division(estimated to small integer)\n",
        "print(10**3) # exponent"
      ],
      "metadata": {
        "colab": {
          "base_uri": "https://localhost:8080/"
        },
        "id": "kb9teXHnBc9s",
        "outputId": "9994e421-2f47-48d5-bb2a-86e98dd22706"
      },
      "execution_count": 29,
      "outputs": [
        {
          "output_type": "stream",
          "name": "stdout",
          "text": [
            "3.3333333333333335\n",
            "1\n",
            "3\n",
            "1000\n"
          ]
        }
      ]
    },
    {
      "cell_type": "markdown",
      "source": [
        "Q4. Create a list of length 10 of your choice containing multiple types of data. Using for loop print the\n",
        "element and its data type."
      ],
      "metadata": {
        "id": "1rQhzqOgCb7l"
      }
    },
    {
      "cell_type": "code",
      "source": [
        "Movies = [\"RRR\",[\"BahubaliTheBeginning\",\"BahubaliTheConclusion\"],False,108,(\"KGFch1\",\"KGFch2\",1.5),2.0,True,'SithaRamam']\n",
        "print(len(Movies))"
      ],
      "metadata": {
        "colab": {
          "base_uri": "https://localhost:8080/"
        },
        "id": "JldGZqJqD5Kw",
        "outputId": "276f92e8-d8b0-42f4-bcd1-6392f5fcae6c"
      },
      "execution_count": 30,
      "outputs": [
        {
          "output_type": "stream",
          "name": "stdout",
          "text": [
            "8\n"
          ]
        }
      ]
    },
    {
      "cell_type": "code",
      "source": [
        "for i in Movies:\n",
        "  print(i,end=\"     \")\n",
        "  print(type(i))"
      ],
      "metadata": {
        "colab": {
          "base_uri": "https://localhost:8080/"
        },
        "id": "-KABeccjEOzi",
        "outputId": "1c517030-608b-45a4-93e8-f176c4e54ad5"
      },
      "execution_count": 36,
      "outputs": [
        {
          "output_type": "stream",
          "name": "stdout",
          "text": [
            "RRR     <class 'str'>\n",
            "['BahubaliTheBeginning', 'BahubaliTheConclusion']     <class 'list'>\n",
            "False     <class 'bool'>\n",
            "108     <class 'int'>\n",
            "('KGFch1', 'KGFch2', 1.5)     <class 'tuple'>\n",
            "2.0     <class 'float'>\n",
            "True     <class 'bool'>\n",
            "SithaRamam     <class 'str'>\n"
          ]
        }
      ]
    },
    {
      "cell_type": "markdown",
      "source": [
        "Q5. Using a while loop, verify if the number A is purely divisible by number B and if so then how many\n",
        "times it can be divisible."
      ],
      "metadata": {
        "id": "j3ohn0PeFfNR"
      }
    },
    {
      "cell_type": "code",
      "source": [
        "Number_1 = int(input(\"Enter the Number_1: \"))\n",
        "Number_2 = int(input(\"Enter the Number_2: \"))\n",
        "count = 0\n",
        "Num = Number_1\n",
        "while True :\n",
        "  if Num % Number_2 == 0:\n",
        "    count += 1\n",
        "    Num /= Number_2\n",
        "  else:\n",
        "    break\n",
        "\n",
        "print(f\"{Number_1} is divisible by {Number_2} of count:{count}\")\n",
        "print(\"{} is divisible by {} of count:{}\".format(Number_1,Number_2,count))"
      ],
      "metadata": {
        "colab": {
          "base_uri": "https://localhost:8080/"
        },
        "id": "dXUC6NV3EaiE",
        "outputId": "a065a77d-4859-4f4e-8003-0b18a5e61876"
      },
      "execution_count": 48,
      "outputs": [
        {
          "output_type": "stream",
          "name": "stdout",
          "text": [
            "Enter the Number_1: 10\n",
            "Enter the Number_2: 2\n",
            "10 is divisible by 2 of count:1\n",
            "10 is divisible by 2 of count:1\n"
          ]
        }
      ]
    },
    {
      "cell_type": "markdown",
      "source": [
        "Q6. Create a list containing 25 int type data. Using for loop and if-else condition print if the element is\n",
        "divisible by 3 or not."
      ],
      "metadata": {
        "id": "kJRu_XfhJqE9"
      }
    },
    {
      "cell_type": "code",
      "source": [
        "Nums = list(range(1,26))\n",
        "for i in Nums:\n",
        "  if i % 3 == 0:\n",
        "    print(f\"{i} is divisible by 3\")\n",
        "  else:\n",
        "    print(f\"{i} is not divisible by 3\")"
      ],
      "metadata": {
        "colab": {
          "base_uri": "https://localhost:8080/"
        },
        "id": "hxG0Me4pJtJf",
        "outputId": "0b2d27ff-86a2-474c-8fd4-b904bf78e15b"
      },
      "execution_count": 51,
      "outputs": [
        {
          "output_type": "stream",
          "name": "stdout",
          "text": [
            "1 is not divisible by 3\n",
            "2 is not divisible by 3\n",
            "3 is divisible by 3\n",
            "4 is not divisible by 3\n",
            "5 is not divisible by 3\n",
            "6 is divisible by 3\n",
            "7 is not divisible by 3\n",
            "8 is not divisible by 3\n",
            "9 is divisible by 3\n",
            "10 is not divisible by 3\n",
            "11 is not divisible by 3\n",
            "12 is divisible by 3\n",
            "13 is not divisible by 3\n",
            "14 is not divisible by 3\n",
            "15 is divisible by 3\n",
            "16 is not divisible by 3\n",
            "17 is not divisible by 3\n",
            "18 is divisible by 3\n",
            "19 is not divisible by 3\n",
            "20 is not divisible by 3\n",
            "21 is divisible by 3\n",
            "22 is not divisible by 3\n",
            "23 is not divisible by 3\n",
            "24 is divisible by 3\n",
            "25 is not divisible by 3\n"
          ]
        }
      ]
    },
    {
      "cell_type": "markdown",
      "source": [
        "Q7. What do you understand about mutable and immutable data types? Give examples for both showing\n",
        "this property."
      ],
      "metadata": {
        "id": "1Zx0kKU8JpCa"
      }
    },
    {
      "cell_type": "code",
      "source": [
        "# Mutable - Data can be modified ex: List\n",
        "# Immutable - Data cannot be modified ex: Tuple\n",
        "\n",
        "films = [\"RRR\",\"Bahubali\",\"KGF\"]\n",
        "print(films)\n",
        "series = (\"Friends\",\"Game of Thrones\",\"Breaking Bad\")\n",
        "films[2] = \"Pushpa\"\n",
        "#series[2] = \"Prison Break\"  # it is an Error\n",
        "print(films)\n",
        "print(series)"
      ],
      "metadata": {
        "colab": {
          "base_uri": "https://localhost:8080/"
        },
        "id": "HztgdoMSHfs4",
        "outputId": "f2df9d4f-e7dc-416d-fca4-f6d68bfd0a7f"
      },
      "execution_count": 55,
      "outputs": [
        {
          "output_type": "stream",
          "name": "stdout",
          "text": [
            "['RRR', 'Bahubali', 'Pushpa']\n",
            "('Friends', 'Game of Thrones', 'Breaking Bad')\n"
          ]
        }
      ]
    },
    {
      "cell_type": "code",
      "source": [],
      "metadata": {
        "id": "NAugOPljLlKN"
      },
      "execution_count": null,
      "outputs": []
    }
  ]
}